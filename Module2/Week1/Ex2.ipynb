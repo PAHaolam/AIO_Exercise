{
  "nbformat": 4,
  "nbformat_minor": 0,
  "metadata": {
    "colab": {
      "provenance": []
    },
    "kernelspec": {
      "name": "python3",
      "display_name": "Python 3"
    },
    "language_info": {
      "name": "python"
    }
  },
  "cells": [
    {
      "cell_type": "code",
      "execution_count": 1,
      "metadata": {
        "colab": {
          "base_uri": "https://localhost:8080/"
        },
        "id": "qsTb6rdDeYkC",
        "outputId": "771f8364-856d-4bc9-ad6f-07ef59bf74b5"
      },
      "outputs": [
        {
          "output_type": "stream",
          "name": "stdout",
          "text": [
            "Downloading...\n",
            "From: https://drive.google.com/uc?id=1i9dqan21DjQoG5Q_VEvm0LrVwAlXD0vB\n",
            "To: /content/dog.jpeg\n",
            "\r  0% 0.00/33.7k [00:00<?, ?B/s]\r100% 33.7k/33.7k [00:00<00:00, 9.52MB/s]\n"
          ]
        }
      ],
      "source": [
        "!gdown 1i9dqan21DjQoG5Q_VEvm0LrVwAlXD0vB"
      ]
    },
    {
      "cell_type": "code",
      "source": [
        "import matplotlib.image as npimg\n",
        "import numpy as np"
      ],
      "metadata": {
        "id": "9bVX162efO5c"
      },
      "execution_count": 5,
      "outputs": []
    },
    {
      "cell_type": "code",
      "source": [
        "# Câu hỏi 12\n",
        "img = npimg.imread('/content/dog.jpeg')\n",
        "gray_img_01 = (np.max(img, axis = -1) + np.min(img, axis = -1)) / 2\n",
        "gray_img_01[0, 0]"
      ],
      "metadata": {
        "colab": {
          "base_uri": "https://localhost:8080/"
        },
        "id": "dNF3v4itfdEp",
        "outputId": "26f0d093-37a5-4ea6-c24f-ea5be5703fb2"
      },
      "execution_count": 8,
      "outputs": [
        {
          "output_type": "execute_result",
          "data": {
            "text/plain": [
              "102.5"
            ]
          },
          "metadata": {},
          "execution_count": 8
        }
      ]
    },
    {
      "cell_type": "code",
      "source": [
        "# Câu hỏi 13\n",
        "img = npimg.imread('/content/dog.jpeg')\n",
        "gray_img_02 = np.average(img, axis = -1)\n",
        "gray_img_02[0, 0]"
      ],
      "metadata": {
        "colab": {
          "base_uri": "https://localhost:8080/"
        },
        "id": "OLgWSCg_gHQD",
        "outputId": "1abce602-4a35-4783-c9ab-dd60709d3a84"
      },
      "execution_count": 10,
      "outputs": [
        {
          "output_type": "execute_result",
          "data": {
            "text/plain": [
              "107.66666666666667"
            ]
          },
          "metadata": {},
          "execution_count": 10
        }
      ]
    },
    {
      "cell_type": "code",
      "source": [
        "# Câu hỏi 14\n",
        "img = npimg.imread('/content/dog.jpeg')\n",
        "gray_img_03 = 0.21*img[:, :, 0] + 0.72*img[:, :, 1] + 0.07*img[:, :, 2]\n",
        "gray_img_03[0, 0]"
      ],
      "metadata": {
        "colab": {
          "base_uri": "https://localhost:8080/"
        },
        "id": "nydYx-Q7ggYv",
        "outputId": "7954de05-bc82-4d5f-9cae-bdd552466cb4"
      },
      "execution_count": 11,
      "outputs": [
        {
          "output_type": "execute_result",
          "data": {
            "text/plain": [
              "126.22999999999999"
            ]
          },
          "metadata": {},
          "execution_count": 11
        }
      ]
    }
  ]
}